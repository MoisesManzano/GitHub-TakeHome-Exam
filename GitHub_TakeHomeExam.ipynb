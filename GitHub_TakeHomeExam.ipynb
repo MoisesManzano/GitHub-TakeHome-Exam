{
  "nbformat": 4,
  "nbformat_minor": 0,
  "metadata": {
    "colab": {
      "name": "GitHub TakeHomeExam.ipynb",
      "private_outputs": true,
      "provenance": [],
      "collapsed_sections": [],
      "include_colab_link": true
    },
    "kernelspec": {
      "name": "python3",
      "display_name": "Python 3"
    },
    "language_info": {
      "name": "python"
    }
  },
  "cells": [
    {
      "cell_type": "markdown",
      "metadata": {
        "id": "view-in-github",
        "colab_type": "text"
      },
      "source": [
        "<a href=\"https://colab.research.google.com/github/MoisesManzano/GitHub-TakeHome-Exam/blob/main/GitHub_TakeHomeExam.ipynb\" target=\"_parent\"><img src=\"https://colab.research.google.com/assets/colab-badge.svg\" alt=\"Open In Colab\"/></a>"
      ]
    },
    {
      "cell_type": "markdown",
      "metadata": {
        "id": "JdH_uY2BBCj_"
      },
      "source": [
        "#Data and Social Media Analysis\n",
        "## Unofficial midterm aka. take home exam for the pandas part of this course\n",
        "\n",
        "Feel free to use any means available to you such as class notebooks, lecture vidoes, Google, StackOverFlow, online tutorials etc. The only thing I ask is that you do this yourself. This means not asking your programmer friend for help or posting a question from the exam on stackoverflow or similar.\n",
        "Good luck!!!\n",
        "\n",
        "1. Read in the ramen ratings file as a dataframe\n",
        "2. set appropriate index and column names and print out an overview of the dataframe\n",
        "3. Print a subset of the dataframe that only has the information of the brand of ramen and its score (hint: not groupby, or creation of new dataframe. How can we access specific rows or columns of data?)\n",
        "5. Oh no, it seems the last column is full of null values. Convert these to NaN.\n",
        "4. Display only the rows where the brand is Nissin and the rating is above 3.5 (some data type conversion might be necessary)\n",
        "\n",
        "6. Group the ramen by brand and calculate the mean, max, and min values in a single output.\n",
        "\n",
        "7. What is the mode rating for all ramen?\n",
        "8. Groupby brand and variety. Can you figure out a way to display this information in descending order (highest to lowest)? Which has the highest average?\n",
        "8. How many different brands of ramen are included in the dataset?"
      ]
    },
    {
      "cell_type": "code",
      "metadata": {
        "id": "qZ-MDwJbSLv0"
      },
      "source": [
        "#Question 1 and 2\n",
        "import pandas as pd"
      ],
      "execution_count": null,
      "outputs": []
    },
    {
      "cell_type": "code",
      "metadata": {
        "id": "s-brs_ycxcgz"
      },
      "source": [
        "from google.colab import drive\n",
        "drive.mount('/content/drive')"
      ],
      "execution_count": null,
      "outputs": []
    },
    {
      "cell_type": "code",
      "metadata": {
        "id": "SHQJEXM3xjZf"
      },
      "source": [
        "ramens = pd.read_csv('/content/drive/MyDrive/Colab Notebooks/github exam/ramen-ratings.csv',index_col=0)\n",
        "ramens.head()"
      ],
      "execution_count": null,
      "outputs": []
    },
    {
      "cell_type": "code",
      "metadata": {
        "id": "ap1tObFsx5Qf"
      },
      "source": [
        "#Question 3\n",
        "print(ramens.loc[:,['Brand','Stars']])"
      ],
      "execution_count": null,
      "outputs": []
    },
    {
      "cell_type": "code",
      "metadata": {
        "id": "mh9wggs9pnxx"
      },
      "source": [
        "#Question 4\n",
        "ramens.fillna(0)"
      ],
      "execution_count": null,
      "outputs": []
    },
    {
      "cell_type": "code",
      "metadata": {
        "id": "_KmassSRYoYN"
      },
      "source": [
        "#question 5: Display only the rows where the brand is Nissin and the rating is above 3.5 (some data type conversion might be necessary)"
      ],
      "execution_count": null,
      "outputs": []
    },
    {
      "cell_type": "code",
      "metadata": {
        "id": "8mWdVJC2Vm6d"
      },
      "source": [
        "import numpy as np"
      ],
      "execution_count": null,
      "outputs": []
    },
    {
      "cell_type": "code",
      "metadata": {
        "id": "FSg_kwuisPUR"
      },
      "source": [
        "ramens['Stars'] = pd.to_numeric(ramens['Stars'], errors='coerce')\n",
        "ramens['Stars']"
      ],
      "execution_count": null,
      "outputs": []
    },
    {
      "cell_type": "code",
      "metadata": {
        "id": "r49UDLzeUHum"
      },
      "source": [
        "ramens.loc[(ramens['Stars'] > 3.5) & (ramens['Brand'] == 'Nissin'), ['Brand', 'Stars']]"
      ],
      "execution_count": null,
      "outputs": []
    },
    {
      "cell_type": "code",
      "metadata": {
        "id": "b0RAvKe_t2oJ"
      },
      "source": [
        "#Question 6. Group the ramen by brand and calculate the mean, max, and min values in a single output"
      ],
      "execution_count": null,
      "outputs": []
    },
    {
      "cell_type": "code",
      "metadata": {
        "id": "_VZWSoKjt_Se"
      },
      "source": [
        "GROUPED = ramens.groupby('Brand').Stars.agg([max,min,np.mean]) \n",
        "GROUPED"
      ],
      "execution_count": null,
      "outputs": []
    },
    {
      "cell_type": "code",
      "metadata": {
        "id": "W1nSdMzuvess"
      },
      "source": [
        "#Question 7. What is the mode rating for all ramen?\n",
        "ramens.mode(dropna=False, numeric_only=True)"
      ],
      "execution_count": null,
      "outputs": []
    },
    {
      "cell_type": "code",
      "metadata": {
        "id": "Dh8kpOlewnNL"
      },
      "source": [
        "#Question 8. Groupby brand and variety. Can you figure out a way to display this information in descending order (highest to lowest)? Which has the highest average?\n",
        "rrtt = ramens.groupby(['Brand', 'Variety']).Stars.sum()\n",
        "rrtt.sort_values(ascending=False)\n",
        "#The highest value corresponds to 'Paldo' Brand 'Kokomen Spicy Chicken' Variety with 14.25 accumulated Stars "
      ],
      "execution_count": null,
      "outputs": []
    },
    {
      "cell_type": "code",
      "metadata": {
        "id": "Z7S9-t0nta0l"
      },
      "source": [
        "#Question 9. How many different brands of ramen are included in the dataset?"
      ],
      "execution_count": null,
      "outputs": []
    },
    {
      "cell_type": "code",
      "metadata": {
        "id": "0o7r371ltmWC"
      },
      "source": [
        "ramens.groupby('Brand', dropna=False).size()\n",
        "#Thanks to .size() command we know the number of elements in this object. As Length tells us, there are 355 types of Brands. "
      ],
      "execution_count": null,
      "outputs": []
    }
  ]
}